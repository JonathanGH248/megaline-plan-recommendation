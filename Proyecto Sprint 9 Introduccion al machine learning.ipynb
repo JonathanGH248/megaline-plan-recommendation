{
 "cells": [
  {
   "cell_type": "markdown",
   "metadata": {},
   "source": [
    "# 🔦 Clasificación de Planes Móviles: Recomendación Inteligente entre Smart y Ultra para Megaline"
   ]
  },
  {
   "cell_type": "markdown",
   "metadata": {},
   "source": [
    "📝 Megaline, una compañía de telecomunicaciones, ha lanzado dos nuevos planes móviles: Smart y Ultra. Sin embargo, una parte considerable de sus clientes continúa utilizando planes antiguos. Para optimizar la transición y ofrecer a cada cliente la mejor opción, se busca desarrollar un modelo de clasificación que, a partir del comportamiento mensual de uso (llamadas, minutos, mensajes y datos), prediga qué plan es más adecuado para cada usuario.\n",
    "\n",
    "🎯 Este proyecto aplica algoritmos de aprendizaje automático supervisado para construir y comparar distintos modelos clasificadores. El objetivo principal es alcanzar una exactitud mínima del 75% en las predicciones. Para ello, se entrenarán modelos con diferentes hiperparámetros y se evaluará su rendimiento utilizando técnicas de validación cruzada, así como conjuntos de datos de prueba independientes."
   ]
  },
  {
   "cell_type": "markdown",
   "metadata": {},
   "source": [
    "## 🧹 Preparación de datos"
   ]
  },
  {
   "cell_type": "code",
   "execution_count": 1,
   "metadata": {},
   "outputs": [
    {
     "data": {
      "text/html": [
       "<div>\n",
       "<style scoped>\n",
       "    .dataframe tbody tr th:only-of-type {\n",
       "        vertical-align: middle;\n",
       "    }\n",
       "\n",
       "    .dataframe tbody tr th {\n",
       "        vertical-align: top;\n",
       "    }\n",
       "\n",
       "    .dataframe thead th {\n",
       "        text-align: right;\n",
       "    }\n",
       "</style>\n",
       "<table border=\"1\" class=\"dataframe\">\n",
       "  <thead>\n",
       "    <tr style=\"text-align: right;\">\n",
       "      <th></th>\n",
       "      <th>calls</th>\n",
       "      <th>minutes</th>\n",
       "      <th>messages</th>\n",
       "      <th>mb_used</th>\n",
       "      <th>is_ultra</th>\n",
       "    </tr>\n",
       "  </thead>\n",
       "  <tbody>\n",
       "    <tr>\n",
       "      <th>0</th>\n",
       "      <td>40.0</td>\n",
       "      <td>311.90</td>\n",
       "      <td>83.0</td>\n",
       "      <td>19915.42</td>\n",
       "      <td>0</td>\n",
       "    </tr>\n",
       "    <tr>\n",
       "      <th>1</th>\n",
       "      <td>85.0</td>\n",
       "      <td>516.75</td>\n",
       "      <td>56.0</td>\n",
       "      <td>22696.96</td>\n",
       "      <td>0</td>\n",
       "    </tr>\n",
       "    <tr>\n",
       "      <th>2</th>\n",
       "      <td>77.0</td>\n",
       "      <td>467.66</td>\n",
       "      <td>86.0</td>\n",
       "      <td>21060.45</td>\n",
       "      <td>0</td>\n",
       "    </tr>\n",
       "    <tr>\n",
       "      <th>3</th>\n",
       "      <td>106.0</td>\n",
       "      <td>745.53</td>\n",
       "      <td>81.0</td>\n",
       "      <td>8437.39</td>\n",
       "      <td>1</td>\n",
       "    </tr>\n",
       "    <tr>\n",
       "      <th>4</th>\n",
       "      <td>66.0</td>\n",
       "      <td>418.74</td>\n",
       "      <td>1.0</td>\n",
       "      <td>14502.75</td>\n",
       "      <td>0</td>\n",
       "    </tr>\n",
       "  </tbody>\n",
       "</table>\n",
       "</div>"
      ],
      "text/plain": [
       "   calls  minutes  messages   mb_used  is_ultra\n",
       "0   40.0   311.90      83.0  19915.42         0\n",
       "1   85.0   516.75      56.0  22696.96         0\n",
       "2   77.0   467.66      86.0  21060.45         0\n",
       "3  106.0   745.53      81.0   8437.39         1\n",
       "4   66.0   418.74       1.0  14502.75         0"
      ]
     },
     "metadata": {},
     "output_type": "display_data"
    },
    {
     "name": "stdout",
     "output_type": "stream",
     "text": [
      "<class 'pandas.core.frame.DataFrame'>\n",
      "RangeIndex: 3214 entries, 0 to 3213\n",
      "Data columns (total 5 columns):\n",
      " #   Column    Non-Null Count  Dtype  \n",
      "---  ------    --------------  -----  \n",
      " 0   calls     3214 non-null   float64\n",
      " 1   minutes   3214 non-null   float64\n",
      " 2   messages  3214 non-null   float64\n",
      " 3   mb_used   3214 non-null   float64\n",
      " 4   is_ultra  3214 non-null   int64  \n",
      "dtypes: float64(4), int64(1)\n",
      "memory usage: 125.7 KB\n",
      "None\n",
      "             calls      minutes     messages       mb_used     is_ultra\n",
      "count  3214.000000  3214.000000  3214.000000   3214.000000  3214.000000\n",
      "mean     63.038892   438.208787    38.281269  17207.673836     0.306472\n",
      "std      33.236368   234.569872    36.148326   7570.968246     0.461100\n",
      "min       0.000000     0.000000     0.000000      0.000000     0.000000\n",
      "25%      40.000000   274.575000     9.000000  12491.902500     0.000000\n",
      "50%      62.000000   430.600000    30.000000  16943.235000     0.000000\n",
      "75%      82.000000   571.927500    57.000000  21424.700000     1.000000\n",
      "max     244.000000  1632.060000   224.000000  49745.730000     1.000000\n"
     ]
    }
   ],
   "source": [
    "# Cargar libreria\n",
    "import pandas as pd\n",
    "\n",
    "# Cargar los datos\n",
    "df = pd.read_csv('/datasets/users_behavior.csv')\n",
    "\n",
    "# Vista general\n",
    "display(df.head())\n",
    "\n",
    "# Información general \n",
    "print(df.info())\n",
    "\n",
    "# Estadísticas descriptivas\n",
    "print(df.describe())\n"
   ]
  },
  {
   "cell_type": "markdown",
   "metadata": {},
   "source": [
    "### 🔍 Análisis Exploratorio Inicial\n",
    "Después de cargar los datos, se realiza una inspección general para conocer la estructura y distribución de las variables.\n",
    "\n",
    "**✅ Información general:**\n",
    "El dataset contiene 3,214 registros y 5 columnas.\n",
    "\n",
    "No hay valores nulos, ya que todas las columnas tienen la misma cantidad de datos (non-null = 3214).\n",
    "\n",
    "Las variables calls, minutes, messages y mb_used son de tipo float64 (numéricas continuas).\n",
    "\n",
    "La variable objetivo is_ultra es de tipo entero (int64) y representa un valor binario:\n",
    "\n",
    "0: Plan Smart\n",
    "\n",
    "1: Plan Ultra\n",
    "\n",
    "**📊 Estadísticas descriptivas por variable:**\n",
    "\n",
    "- `calls`  El número de llamadas varía de 0 a 244, con un promedio de \\~63 llamadas. Algunos usuarios no hicieron llamadas.  \n",
    "- `minutes`  La duración total de llamadas varía desde 0 hasta 1632 minutos. El promedio es de \\~438 minutos.\n",
    "-  `messages` El número de SMS enviados tiene una media de \\~38 pero puede llegar a 224. Hay usuarios que no enviaron mensajes.\n",
    "-  `mb_used`  El consumo de internet es muy variable, con un promedio de \\~17,200 MB (17.2 GB), y llega hasta casi 50 GB.\n",
    "-  `is_ultra` Solo el **30.6%** de los registros pertenecen al plan Ultra. Es decir, la clase está **desequilibrada**. \n",
    "\n",
    "**📌 Posibles implicaciones:**\n",
    "Dado que hay clientes que no usaron llamadas, mensajes o datos, será importante revisar si eso afecta la predicción.\n",
    "\n",
    "**Conclusión:**\n",
    "Por ahora, se puede determinar que los datos están limpios y listos para ser divididos en entrenamiento, validación y prueba."
   ]
  },
  {
   "cell_type": "markdown",
   "metadata": {},
   "source": [
    "## ✂️ Dividir el conjunto de datos\n",
    "\n",
    "Se separarán los datos en:\n",
    "\n",
    "Conjunto de entrenamiento (60%)\n",
    "\n",
    "Conjunto de validación (20%)\n",
    "\n",
    "Conjunto de prueba (20%)"
   ]
  },
  {
   "cell_type": "code",
   "execution_count": 2,
   "metadata": {},
   "outputs": [
    {
     "name": "stdout",
     "output_type": "stream",
     "text": [
      "(1928, 4) (643, 4) (643, 4)\n"
     ]
    }
   ],
   "source": [
    "# Libreria\n",
    "from sklearn.model_selection import train_test_split\n",
    "\n",
    "# Se separan las características (variables predictoras) del objetivo\n",
    "features = df.drop('is_ultra', axis=1)\n",
    "target = df['is_ultra']\n",
    "\n",
    "# Dividir en 60% train y 40% temporal (que será luego valid/test)\n",
    "features_train, features_temp, target_train, target_temp = train_test_split(features, target, test_size=0.4, random_state=12345)\n",
    "\n",
    "# De la parte temporal (40%), se divide en 50/50 → 20% valid y 20% test\n",
    "features_valid, features_test, target_valid, target_test = train_test_split(features_temp, target_temp, test_size=0.5, random_state=12345)\n",
    "\n",
    "print(features_train.shape, features_valid.shape, features_test.shape)\n"
   ]
  },
  {
   "cell_type": "code",
   "execution_count": 3,
   "metadata": {},
   "outputs": [
    {
     "data": {
      "image/png": "[encoded data removed]",
      "text/plain": [
       "<Figure size 800x500 with 1 Axes>"
      ]
     },
     "metadata": {},
     "output_type": "display_data"
    }
   ],
   "source": [
    "# Libreria para graficar\n",
    "import matplotlib.pyplot as plt\n",
    "\n",
    "# Valores de tamaños\n",
    "sizes = [features_train.shape[0], features_valid.shape[0], features_test.shape[0]]\n",
    "labels = ['Entrenamiento (60%)', 'Validación (20%)', 'Prueba (20%)']\n",
    "\n",
    "# Crear gráfico de barras\n",
    "plt.figure(figsize=(8, 5))\n",
    "plt.bar(labels, sizes)\n",
    "plt.title('Distribución de subconjuntos de datos')\n",
    "plt.ylabel('Cantidad de observaciones')\n",
    "plt.show()"
   ]
  },
  {
   "cell_type": "markdown",
   "metadata": {},
   "source": [
    "## 🧪 Paso 3: Entrenamiento y comparación de modelos\n",
    "\n",
    "**🔍 Objetivo:**\n",
    "Desarrollar modelos de clasificación que predigan si un cliente debería usar el plan Smart (0) o Ultra (1). Evaluaremos varios modelos y sus hiperparámetros usando el conjunto de validación."
   ]
  },
  {
   "cell_type": "markdown",
   "metadata": {},
   "source": [
    "### 📌 Entrenamiento de un Árbol de Decisión"
   ]
  },
  {
   "cell_type": "code",
   "execution_count": 4,
   "metadata": {},
   "outputs": [
    {
     "data": {
      "text/plain": [
       "'Depth: 1 - Accuracy: 0.7543'"
      ]
     },
     "metadata": {},
     "output_type": "display_data"
    },
    {
     "data": {
      "text/plain": [
       "'Depth: 2 - Accuracy: 0.7823'"
      ]
     },
     "metadata": {},
     "output_type": "display_data"
    },
    {
     "data": {
      "text/plain": [
       "'Depth: 3 - Accuracy: 0.7854'"
      ]
     },
     "metadata": {},
     "output_type": "display_data"
    },
    {
     "data": {
      "text/plain": [
       "'Depth: 4 - Accuracy: 0.7792'"
      ]
     },
     "metadata": {},
     "output_type": "display_data"
    },
    {
     "data": {
      "text/plain": [
       "'Depth: 5 - Accuracy: 0.7792'"
      ]
     },
     "metadata": {},
     "output_type": "display_data"
    },
    {
     "data": {
      "text/plain": [
       "'Depth: 6 - Accuracy: 0.7838'"
      ]
     },
     "metadata": {},
     "output_type": "display_data"
    },
    {
     "data": {
      "text/plain": [
       "'Depth: 7 - Accuracy: 0.7823'"
      ]
     },
     "metadata": {},
     "output_type": "display_data"
    },
    {
     "data": {
      "text/plain": [
       "'Depth: 8 - Accuracy: 0.7792'"
      ]
     },
     "metadata": {},
     "output_type": "display_data"
    },
    {
     "data": {
      "text/plain": [
       "'Depth: 9 - Accuracy: 0.7823'"
      ]
     },
     "metadata": {},
     "output_type": "display_data"
    },
    {
     "data": {
      "text/plain": [
       "'Depth: 10 - Accuracy: 0.7745'"
      ]
     },
     "metadata": {},
     "output_type": "display_data"
    }
   ],
   "source": [
    "# Librerias necesarias para el entrenamiento de un arbol de decisión \n",
    "from sklearn.tree import DecisionTreeClassifier\n",
    "from sklearn.metrics import accuracy_score\n",
    "\n",
    "# Se crean variables\n",
    "best_dt_model = None\n",
    "best_dt_score = 0\n",
    "best_dt_depth = 0\n",
    "\n",
    "for depth in range(1, 11):\n",
    "    dt_model = DecisionTreeClassifier(random_state=12345, max_depth=depth)\n",
    "    dt_model.fit(features_train, target_train)\n",
    "    predictions = dt_model.predict(features_valid)\n",
    "    acc = accuracy_score(target_valid, predictions)\n",
    "    display(f'Depth: {depth} - Accuracy: {acc:.4f}')\n",
    "    \n",
    "    if acc > best_dt_score:\n",
    "        best_dt_score = acc\n",
    "        best_dt_model = dt_model\n",
    "        best_dt_depth = depth"
   ]
  },
  {
   "cell_type": "markdown",
   "metadata": {},
   "source": [
    "**📈 Resultados por profundidad (max_depth)**\n",
    "\n",
    "- La mejor exactitud: **0.7854**, se obtuvo con **max_depth = 3**.\n",
    "- A partir de depth = 3, la exactitud no mejora significativamente, e incluso empieza a bajar o mantenerse.\n",
    "- Esto sugiere que a partir de cierto punto, el árbol podría estar sobreajustándose: se adapta mucho al conjunto de entrenamiento pero no mejora en datos nuevos.\n",
    "\n",
    "Este modelo supera el umbral mínimo exigido por el proyecto, que era 0.75."
   ]
  },
  {
   "cell_type": "markdown",
   "metadata": {},
   "source": [
    "### 🌲 2. Bosque Aleatorio"
   ]
  },
  {
   "cell_type": "code",
   "execution_count": 5,
   "metadata": {},
   "outputs": [
    {
     "name": "stdout",
     "output_type": "stream",
     "text": [
      "Estimators: 10, Depth: 1 - Accuracy: 0.7558\n",
      "Estimators: 10, Depth: 2 - Accuracy: 0.7776\n",
      "Estimators: 10, Depth: 3 - Accuracy: 0.7854\n",
      "Estimators: 10, Depth: 4 - Accuracy: 0.7900\n",
      "Estimators: 10, Depth: 5 - Accuracy: 0.7932\n",
      "Estimators: 10, Depth: 6 - Accuracy: 0.8009\n",
      "Estimators: 10, Depth: 7 - Accuracy: 0.7947\n",
      "Estimators: 10, Depth: 8 - Accuracy: 0.7963\n",
      "Estimators: 10, Depth: 9 - Accuracy: 0.7854\n",
      "Estimators: 10, Depth: 10 - Accuracy: 0.7916\n",
      "Estimators: 20, Depth: 1 - Accuracy: 0.7667\n",
      "Estimators: 20, Depth: 2 - Accuracy: 0.7838\n",
      "Estimators: 20, Depth: 3 - Accuracy: 0.7869\n",
      "Estimators: 20, Depth: 4 - Accuracy: 0.7885\n",
      "Estimators: 20, Depth: 5 - Accuracy: 0.7900\n",
      "Estimators: 20, Depth: 6 - Accuracy: 0.7994\n",
      "Estimators: 20, Depth: 7 - Accuracy: 0.8009\n",
      "Estimators: 20, Depth: 8 - Accuracy: 0.7978\n",
      "Estimators: 20, Depth: 9 - Accuracy: 0.7900\n",
      "Estimators: 20, Depth: 10 - Accuracy: 0.7916\n",
      "Estimators: 30, Depth: 1 - Accuracy: 0.7667\n",
      "Estimators: 30, Depth: 2 - Accuracy: 0.7838\n",
      "Estimators: 30, Depth: 3 - Accuracy: 0.7869\n",
      "Estimators: 30, Depth: 4 - Accuracy: 0.7869\n",
      "Estimators: 30, Depth: 5 - Accuracy: 0.7932\n",
      "Estimators: 30, Depth: 6 - Accuracy: 0.8009\n",
      "Estimators: 30, Depth: 7 - Accuracy: 0.8025\n",
      "Estimators: 30, Depth: 8 - Accuracy: 0.7994\n",
      "Estimators: 30, Depth: 9 - Accuracy: 0.7932\n",
      "Estimators: 30, Depth: 10 - Accuracy: 0.7947\n",
      "Estimators: 40, Depth: 1 - Accuracy: 0.7760\n",
      "Estimators: 40, Depth: 2 - Accuracy: 0.7854\n",
      "Estimators: 40, Depth: 3 - Accuracy: 0.7869\n",
      "Estimators: 40, Depth: 4 - Accuracy: 0.7900\n",
      "Estimators: 40, Depth: 5 - Accuracy: 0.7947\n",
      "Estimators: 40, Depth: 6 - Accuracy: 0.8025\n",
      "Estimators: 40, Depth: 7 - Accuracy: 0.8025\n",
      "Estimators: 40, Depth: 8 - Accuracy: 0.8087\n",
      "Estimators: 40, Depth: 9 - Accuracy: 0.7947\n",
      "Estimators: 40, Depth: 10 - Accuracy: 0.7963\n",
      "Estimators: 50, Depth: 1 - Accuracy: 0.7589\n",
      "Estimators: 50, Depth: 2 - Accuracy: 0.7838\n",
      "Estimators: 50, Depth: 3 - Accuracy: 0.7869\n",
      "Estimators: 50, Depth: 4 - Accuracy: 0.7869\n",
      "Estimators: 50, Depth: 5 - Accuracy: 0.7932\n",
      "Estimators: 50, Depth: 6 - Accuracy: 0.7994\n",
      "Estimators: 50, Depth: 7 - Accuracy: 0.8025\n",
      "Estimators: 50, Depth: 8 - Accuracy: 0.8072\n",
      "Estimators: 50, Depth: 9 - Accuracy: 0.7978\n",
      "Estimators: 50, Depth: 10 - Accuracy: 0.7932\n"
     ]
    }
   ],
   "source": [
    "# Libreria bosque aleatorio\n",
    "from sklearn.ensemble import RandomForestClassifier\n",
    "from sklearn.metrics import accuracy_score\n",
    "\n",
    "# Se crean variables para guardar los mejores resultados\n",
    "best_acc = 0\n",
    "best_est = 0\n",
    "best_depth = 0\n",
    "\n",
    "# Probamos varias combinaciones de hiperparámetros\n",
    "for est in range(10, 60, 10):  # est: número de árboles\n",
    "    for depth in range(1, 11):  # depth: profundidad máxima de los árboles\n",
    "        rf_model = RandomForestClassifier(\n",
    "            n_estimators=est,\n",
    "            max_depth=depth,\n",
    "            random_state=12345\n",
    "        )\n",
    "        rf_model.fit(features_train, target_train)  # Se entrena el modelo\n",
    "        predictions = rf_model.predict(features_valid)  # Predice sobre validación\n",
    "        acc = accuracy_score(target_valid, predictions)  # Calcula exactitud\n",
    "        print(f\"Estimators: {est}, Depth: {depth} - Accuracy: {acc:.4f}\")\n",
    "\n",
    "        # Guardar el mejor resultado\n",
    "        if acc > best_acc:\n",
    "            best_acc = acc\n",
    "            best_est = est\n",
    "            best_depth = depth\n"
   ]
  },
  {
   "cell_type": "markdown",
   "metadata": {},
   "source": [
    "**📝 Conclusión:**\n",
    "\n",
    "- Con este modelo la mejor exactitud fue obtenida con **n_estimators=40** y **max_depth=8**, alcanzando una exactitud del **80.87%**, superando el umbral de 0.75 que se exige en el proyecto, lo cual indica que el modelo es aceptable para producción o implementación."
   ]
  },
  {
   "cell_type": "markdown",
   "metadata": {},
   "source": [
    "### 🧮 Entrenamiento de Regresión Logística"
   ]
  },
  {
   "cell_type": "code",
   "execution_count": 6,
   "metadata": {},
   "outputs": [
    {
     "name": "stdout",
     "output_type": "stream",
     "text": [
      "Logistic Regression Accuracy: 0.7092\n"
     ]
    }
   ],
   "source": [
    "# Se carga libreria de Regresión Logística\n",
    "from sklearn.linear_model import LogisticRegression\n",
    "\n",
    "# Se crea el modelo liblinear \n",
    "lr_model = LogisticRegression(random_state=12345, solver='liblinear')\n",
    "\n",
    "# Se entrena el modelo\n",
    "lr_model.fit(features_train, target_train)\n",
    "\n",
    "# Se hace predicciones sobre el conjunto de validación\n",
    "predictions = lr_model.predict(features_valid)\n",
    "\n",
    "# Se calcula y se imprime la exactitud\n",
    "lr_score = accuracy_score(target_valid, predictions)\n",
    "print(f'Logistic Regression Accuracy: {lr_score:.4f}')\n"
   ]
  },
  {
   "cell_type": "markdown",
   "metadata": {},
   "source": [
    "**📝 Conclusión:**\n",
    "- El modelo acertó en **70.92%** de los casos al predecir correctamente si un usuario debe tener el plan Smart (0) o Ultra (1).\n",
    "\n",
    "- Es un resultado razonable, pero está por debajo del umbral mínimo exigido de 75%, por lo tanto no es suficiente para cumplir el objetivo del proyecto."
   ]
  },
  {
   "cell_type": "markdown",
   "metadata": {},
   "source": [
    "## 📊 Comparación Final de Modelos"
   ]
  },
  {
   "cell_type": "code",
   "execution_count": 7,
   "metadata": {},
   "outputs": [
    {
     "name": "stdout",
     "output_type": "stream",
     "text": [
      "Mejor exactitud del Árbol de Decisión - Depth 3 - Accuracy: 0.7854\n",
      "Mejor exactitud del Bosque Aleatorio - Estimators: 40, Depth: 8 - Accuracy: 0.8087\n",
      "Mejor exactitud de la Regresión Logística - Accuracy: 0.7092\n"
     ]
    }
   ],
   "source": [
    "print(f'Mejor exactitud del Árbol de Decisión - Depth {best_dt_depth} - Accuracy: {best_dt_score:.4f}')\n",
    "print(f\"Mejor exactitud del Bosque Aleatorio - Estimators: {best_est}, Depth: {best_depth} - Accuracy: {best_acc:.4f}\")\n",
    "print(f'Mejor exactitud de la Regresión Logística - Accuracy: {lr_score:.4f}')"
   ]
  },
  {
   "cell_type": "markdown",
   "metadata": {},
   "source": [
    "----------------------------------------------------------------------------------------------------------------\n",
    "- **Árbol de Decisión**\n",
    "\n",
    "  Exactitud (Accuracy): 0.7854 Buen rendimiento. Supera el umbral mínimo (0.75). Sencillo pero puede sobreajustarse si no se controla.\n",
    "-----------------------------------------------------------------------------------------------------------------\n",
    "- ✅ **Bosque Aleatorio**\n",
    "\n",
    "  Exactitud (Accuracy): **0.8087**  🏆 **Mejor modelo**. Combina múltiples árboles, lo que reduce el sobreajuste y mejora la generalización.\n",
    "-----------------------------------------------------------------------------------------------------------------\n",
    "- **Regresión Logística**\n",
    "\n",
    "  Exactitud (Accuracy): 0.7092 ❌ No alcanza el mínimo requerido. Modelo lineal, útil como referencia inicial.\n",
    "-----------------------------------------------------------------------------------------------------------------\n",
    "\n",
    "**📝 CONCLUSIÓN**\n",
    "\n",
    "El modelo de ***Bosque Aleatorio*** con 40 estimadores y profundidad 8 es el mejor, con una exactitud de **0.8087**, superior al mínimo requerido de 0.75.\n",
    "\n",
    "Será el modelo elegido para hacer la predicción final en el conjunto de prueba."
   ]
  },
  {
   "cell_type": "markdown",
   "metadata": {},
   "source": [
    "## 🔬 Paso 4: Evaluación del modelo con el conjunto de prueba\n",
    "\n",
    "Entrenamos nuevamente el mejor modelo con los datos de entrenamiento + validación. Se utiliza el modelo ganador **Bosque aleatorio**"
   ]
  },
  {
   "cell_type": "code",
   "execution_count": 8,
   "metadata": {},
   "outputs": [
    {
     "name": "stdout",
     "output_type": "stream",
     "text": [
      "✅ Exactitud del modelo final en el conjunto de prueba: 0.7994\n"
     ]
    }
   ],
   "source": [
    "# Se llaman nuevamente las librerias del modelo ganador para claridad en el codigo\n",
    "from sklearn.ensemble import RandomForestClassifier  \n",
    "from sklearn.metrics import accuracy_score\n",
    "\n",
    "# Unimos datos de entrenamiento y validación\n",
    "features_trainval = pd.concat([features_train, features_valid])\n",
    "target_trainval = pd.concat([target_train, target_valid])\n",
    "\n",
    "# Entrenamos el mejor modelo (hiperparámetros ajustados al mejor resultado que se obtuvo)\n",
    "final_model = RandomForestClassifier(n_estimators=40, max_depth=8, random_state=12345)\n",
    "final_model.fit(features_trainval, target_trainval)\n",
    "\n",
    "# Evaluamos con el conjunto de prueba\n",
    "test_predictions = final_model.predict(features_test)\n",
    "test_accuracy = accuracy_score(target_test, test_predictions)\n",
    "\n",
    "print(\"✅ Exactitud del modelo final en el conjunto de prueba:\", round(test_accuracy, 4))\n"
   ]
  },
  {
   "cell_type": "markdown",
   "metadata": {},
   "source": [
    "### 🚩 Evaluación final del modelo\n",
    "El mejor modelo, un Random Forest con `n_estimators = 40` y `max_depth = 8`, alcanzó una exactitud de **0.8087** en validación y **0.7994** en el conjunto de prueba. \n",
    "\n",
    "**Esto demuestra que el modelo generaliza bien a nuevos datos y es adecuado para recomendar planes Smart o Ultra.**\n"
   ]
  },
  {
   "cell_type": "markdown",
   "metadata": {},
   "source": [
    "## 🧠 Paso 5: Prueba de cordura al modelo\n",
    "\n",
    "🎯 Objetivo\n",
    "Asegurarnos de que nuestro modelo no esté tomando decisiones aleatorias o triviales, y que realmente aprendió patrones útiles."
   ]
  },
  {
   "cell_type": "code",
   "execution_count": 9,
   "metadata": {},
   "outputs": [
    {
     "name": "stdout",
     "output_type": "stream",
     "text": [
      "Exactitud del modelo dummy (prueba de cordura): 0.6842923794712286\n"
     ]
    }
   ],
   "source": [
    "# Se utilizará DummyClassifier: un modelo muy simple que no aprende nada, solo predice de forma fija o aleatoria según la estrategia.\n",
    "from sklearn.dummy import DummyClassifier\n",
    "from sklearn.metrics import accuracy_score\n",
    "\n",
    "# Creamos un modelo dummy que hace predicciones al azar\n",
    "dummy_model = DummyClassifier(strategy='most_frequent', random_state=12345) \n",
    "# strategy='most_frequent' significa que el modelo siempre va a predecir la clase que más aparece en los datos de entrenamiento \n",
    "dummy_model.fit(features_train, target_train)\n",
    "# Se entrena, aunque en realidad no aprende, solo guarda cuál clase es la más común\n",
    "\n",
    "# Hacemos predicciones. como usa most_frequent, todas las predicciones serán iguales (todo 0 o todo 1), según cuál clase es más frecuente.\n",
    "dummy_predictions = dummy_model.predict(features_test)\n",
    "\n",
    "# Calculamos la exactitud\n",
    "dummy_accuracy = accuracy_score(target_test, dummy_predictions)\n",
    "print(\"Exactitud del modelo dummy (prueba de cordura):\", dummy_accuracy)\n"
   ]
  },
  {
   "cell_type": "markdown",
   "metadata": {},
   "source": [
    "### ✅ Resultados de la Prueba de Cordura\n",
    "\n",
    "Tras entrenar y validar varios modelos, seleccionamos un modelo Random Forest con los mejores hiperparámetros.\n",
    "\n",
    "Para comprobar su calidad real, lo evaluamos sobre el conjunto de prueba, y también lo comparamos contra un modelo dummy, el cual simplemente predice la clase más frecuente.\n",
    "\n",
    "- **Random Forest (final):**\n",
    "  Exactitud en conjunto de prueba =\t**0.7994** ✅\n",
    "- **Dummy Classifier**\n",
    "  Exactitud en conjunto de prueba = **0.6843** ❌\n",
    "\n",
    "*🔍 Conclusión: El modelo final supera significativamente al modelo dummy.*\n",
    "\n",
    "**Esto indica que el modelo no está adivinando, sino que ha aprendido patrones relevantes en los datos y generaliza bien a nuevos usuarios.**\n"
   ]
  },
  {
   "cell_type": "markdown",
   "metadata": {},
   "source": [
    "## 💡 Conclusión final:\n",
    "\n",
    "El modelo Random Forest cumple con los requisitos del negocio y puede utilizarse como una herramienta para recomendar planes óptimos a los usuarios de Megaline con alta precisión, ya qué demostró ser el más eficaz entre las alternativas probadas (Árbol de Decisión y Regresión Logística), alcanzando una exactitud casi del 80% en el conjunto de prueba. Este rendimiento supera con creces tanto el umbral mínimo establecido por el negocio (75%) como el desempeño del modelo de referencia (dummy), lo que indica que el modelo no está adivinando, sino aprendiendo patrones significativos de los datos.\n",
    "\n",
    "Dados estos resultados se puede decir que el modelo Random Forest es una excelente herramienta para recomendar de forma automatizada y precisa el plan más adecuado (Smart o Ultra) para cada usuario según su comportamiento mensual.\n",
    "\n",
    "Además, su uso puede ayudar a reducir la dependencia de planes heredados, mejorar la experiencia del cliente y aumentar la eficiencia en la estrategia comercial de Megaline. Este modelo puede integrarse en sistemas de recomendación o análisis interno para apoyar decisiones de marketing y ventas personalizadas."
   ]
  }
 ],
 "metadata": {
  "kernelspec": {
   "display_name": "Python 3 (ipykernel)",
   "language": "python",
   "name": "python3"
  },
  "language_info": {
   "codemirror_mode": {
    "name": "ipython",
    "version": 3
   },
   "file_extension": ".py",
   "mimetype": "text/x-python",
   "name": "python",
   "nbconvert_exporter": "python",
   "pygments_lexer": "ipython3",
   "version": "3.9.22"
  }
 },
 "nbformat": 4,
 "nbformat_minor": 4
}
